{
 "cells": [
  {
   "cell_type": "markdown",
   "metadata": {},
   "source": [
    "# Beatoven Public SDK"
   ]
  },
  {
   "cell_type": "markdown",
   "metadata": {},
   "source": [
    "## Usage"
   ]
  },
  {
   "cell_type": "markdown",
   "metadata": {},
   "source": [
    "If you are interested in using the SDK, please get in touch with hello@beatoven.ai. We would like to discuss your use-case(s) and issue an API key for your application."
   ]
  },
  {
   "cell_type": "code",
   "execution_count": 1,
   "metadata": {},
   "outputs": [],
   "source": [
    "import os\n",
    "\n",
    "os.environ[\"BEATOVEN_API_KEY\"] = \"\""
   ]
  },
  {
   "cell_type": "markdown",
   "metadata": {},
   "source": [
    "## Install"
   ]
  },
  {
   "cell_type": "markdown",
   "metadata": {},
   "source": [
    "Install the python package from git\n",
    "\n",
    "`!python -m pip install -e \"git+https://github.com/Beatoven/public-api.git/#subdirectory=sdk\"`"
   ]
  },
  {
   "cell_type": "code",
   "execution_count": 4,
   "metadata": {},
   "outputs": [],
   "source": [
    "import beatoven_sdk\n",
    "\n",
    "# beatoven_sdk.get_version()"
   ]
  },
  {
   "cell_type": "markdown",
   "metadata": {},
   "source": [
    "### List all tracks"
   ]
  },
  {
   "cell_type": "code",
   "execution_count": 6,
   "metadata": {},
   "outputs": [],
   "source": [
    "tracks = await beatoven_sdk.list_all_tracks()"
   ]
  },
  {
   "cell_type": "markdown",
   "metadata": {},
   "source": [
    "### Compose new track"
   ]
  },
  {
   "cell_type": "code",
   "execution_count": 7,
   "metadata": {},
   "outputs": [],
   "source": [
    "track_id, track_url = await beatoven_sdk.create_new_track(\n",
    "    title=\"my sdk track\",\n",
    "    track_duration=30000,\n",
    "    track_genre=\"cinematic\",\n",
    "    track_tempo=\"medium\",\n",
    "    mood=\"happy\",\n",
    ")"
   ]
  },
  {
   "cell_type": "markdown",
   "metadata": {},
   "source": [
    "### Get existing track"
   ]
  },
  {
   "cell_type": "code",
   "execution_count": 8,
   "metadata": {},
   "outputs": [],
   "source": [
    "track_id, track_url = await beatoven_sdk.get_track_by_id(tracks[0][\"id\"])"
   ]
  },
  {
   "cell_type": "markdown",
   "metadata": {},
   "source": [
    "### Download track"
   ]
  },
  {
   "cell_type": "code",
   "execution_count": 9,
   "metadata": {},
   "outputs": [
    {
     "name": "stdout",
     "output_type": "stream",
     "text": [
      "Composed! you can find your track at `composed_track.mp3`\n"
     ]
    }
   ],
   "source": [
    "import aiofiles\n",
    "import aiohttp\n",
    "\n",
    "track_file_path = os.path.join(os.getcwd(), \"composed_track.mp3\")\n",
    "async with aiohttp.ClientSession() as session:\n",
    "    async with session.get(track_url) as response:\n",
    "        if response.status == 200:\n",
    "            async with aiofiles.open(track_file_path, \"wb+\") as f:\n",
    "                await f.write(await response.read())\n",
    "print(\"Composed! you can find your track at `composed_track.mp3`\")"
   ]
  }
 ],
 "metadata": {
  "kernelspec": {
   "display_name": ".venv",
   "language": "python",
   "name": "python3"
  },
  "language_info": {
   "codemirror_mode": {
    "name": "ipython",
    "version": 3
   },
   "file_extension": ".py",
   "mimetype": "text/x-python",
   "name": "python",
   "nbconvert_exporter": "python",
   "pygments_lexer": "ipython3",
   "version": "3.11.2"
  }
 },
 "nbformat": 4,
 "nbformat_minor": 2
}
